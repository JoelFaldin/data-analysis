{
 "cells": [
  {
   "cell_type": "code",
   "execution_count": null,
   "metadata": {
    "colab": {
     "base_uri": "https://localhost:8080/",
     "height": 479
    },
    "id": "Gz3M3W_Wx0VI",
    "outputId": "724b59d6-c837-44f5-ddba-99d5511a5454"
   },
   "outputs": [],
   "source": [
    "from google.colab import files\n",
    "import pandas as pd\n",
    "import io\n",
    "\n",
    "upload_files = files.upload()\n",
    "\n",
    "file_name = next(iter(upload_files))\n",
    "\n",
    "df = pd.read_csv(io.StringIO(upload_files[file_name].decode('utf-8')), header=1, delimiter=\";\")\n",
    "\n",
    "df"
   ]
  },
  {
   "cell_type": "code",
   "execution_count": null,
   "metadata": {
    "colab": {
     "base_uri": "https://localhost:8080/",
     "height": 424
    },
    "id": "CLL21XwTyQri",
    "outputId": "2588f56d-82d3-4dd5-86d9-0234f7c7c189"
   },
   "outputs": [],
   "source": [
    "df = df.drop(\"ID\", axis=1)\n",
    "df"
   ]
  },
  {
   "cell_type": "code",
   "execution_count": null,
   "metadata": {
    "colab": {
     "base_uri": "https://localhost:8080/"
    },
    "id": "nMOAhw9Mx3qa",
    "outputId": "54da059e-3a02-4b71-943d-efe74f2a1df0"
   },
   "outputs": [],
   "source": [
    "# showing correlation:\n",
    "corr = df.corr()\n",
    "target_corr = corr[\"default payment next month\"]\n",
    "\n",
    "print(target_corr)"
   ]
  },
  {
   "cell_type": "code",
   "execution_count": null,
   "metadata": {
    "colab": {
     "base_uri": "https://localhost:8080/",
     "height": 618
    },
    "id": "7RSw8qO7x8Y3",
    "outputId": "43d8032c-c3da-4497-c08e-2b74af1fb868"
   },
   "outputs": [],
   "source": [
    "# correlation bar plot:\n",
    "import seaborn as sns\n",
    "import matplotlib.pyplot as plt\n",
    "\n",
    "plt.figure(figsize=(10, 6))\n",
    "target_corr.drop(\"default payment next month\").plot(kind='bar', color=\"skyblue\")\n",
    "\n",
    "plt.title(\"Correlation dependant variable\")\n",
    "plt.ylabel(\"Correlation Coefficient\")\n",
    "plt.xlabel(\"Features\")\n",
    "plt.xticks(rotation=45)\n",
    "plt.grid(axis=\"y\", linestyle=\"--\", alpha=0.7)\n",
    "plt.show()"
   ]
  }
 ],
 "metadata": {
  "colab": {
   "provenance": []
  },
  "kernelspec": {
   "display_name": "Python 3",
   "name": "python3"
  },
  "language_info": {
   "name": "python"
  }
 },
 "nbformat": 4,
 "nbformat_minor": 0
}
