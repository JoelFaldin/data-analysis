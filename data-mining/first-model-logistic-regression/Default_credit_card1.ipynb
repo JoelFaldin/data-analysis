{
 "cells": [
  {
   "cell_type": "code",
   "execution_count": null,
   "metadata": {
    "colab": {
     "base_uri": "https://localhost:8080/",
     "height": 479
    },
    "id": "aVEIbrBoFhkp",
    "outputId": "3b815c07-2dee-42b6-9993-1e30b1b63787"
   },
   "outputs": [],
   "source": [
    "from google.colab import files\n",
    "import pandas as pd\n",
    "import io\n",
    "\n",
    "upload_files = files.upload()\n",
    "\n",
    "file_name = next(iter(upload_files))\n",
    "\n",
    "df = pd.read_csv(io.StringIO(upload_files[file_name].decode('utf-8')), header=1, delimiter=\";\")\n",
    "\n",
    "df"
   ]
  },
  {
   "cell_type": "code",
   "execution_count": null,
   "metadata": {
    "collapsed": true,
    "id": "ufvbiVNyTOsO"
   },
   "outputs": [],
   "source": [
    "df = df.drop('ID', axis = 1)"
   ]
  },
  {
   "cell_type": "code",
   "execution_count": null,
   "metadata": {
    "colab": {
     "base_uri": "https://localhost:8080/"
    },
    "id": "uG2NhuGxjQWe",
    "outputId": "7f142e8b-2642-4e59-8e8b-2678762ed58f"
   },
   "outputs": [],
   "source": [
    "print(df[\"EDUCATION\"].unique())"
   ]
  },
  {
   "cell_type": "code",
   "execution_count": null,
   "metadata": {
    "colab": {
     "base_uri": "https://localhost:8080/"
    },
    "id": "qp7UXsXIj3p3",
    "outputId": "678dfad9-1a1e-4270-e5b1-794e21eb5253"
   },
   "outputs": [],
   "source": [
    "# Combine EDUCATION values 0, 5 and 6 into 4\n",
    "# This was done because documentation says that the column can only take 4 values (1 = graduate school; 2 = university; 3 = high school; 4 = others).\n",
    "df[\"EDUCATION\"] = df[\"EDUCATION\"].replace([0, 5, 6], 4)\n",
    "df[\"EDUCATION\"].unique()"
   ]
  },
  {
   "cell_type": "code",
   "execution_count": null,
   "metadata": {
    "colab": {
     "base_uri": "https://localhost:8080/"
    },
    "id": "fP7d8idwgYu3",
    "outputId": "e66cc0ff-73ee-4af5-f3fa-6ada5f9846c3"
   },
   "outputs": [],
   "source": [
    "print(df[\"MARRIAGE\"].unique())"
   ]
  },
  {
   "cell_type": "code",
   "execution_count": null,
   "metadata": {
    "colab": {
     "base_uri": "https://localhost:8080/"
    },
    "id": "4DgW7G1PkzXI",
    "outputId": "337d04a3-f3ab-4f74-8a07-80fd28205d53"
   },
   "outputs": [],
   "source": [
    "# Combining MARRIAGE column \"0\" values to 3\n",
    "# The documentation says the column can only take 3 values: (1 = married; 2 = single; 3 = others). 0 is neither of those.\n",
    "df[\"MARRIAGE\"] = df[\"MARRIAGE\"].replace(0, 3)\n",
    "df[\"MARRIAGE\"].unique()"
   ]
  },
  {
   "cell_type": "code",
   "execution_count": null,
   "metadata": {
    "colab": {
     "base_uri": "https://localhost:8080/",
     "height": 424
    },
    "id": "dcYUWLgMib93",
    "outputId": "d7c400dd-c91d-4f90-9d06-4206c0d31f2d"
   },
   "outputs": [],
   "source": [
    "# Encoding EDUCATION column:\n",
    "new_data = pd.get_dummies(df, columns=['EDUCATION', 'MARRIAGE'], drop_first=True)\n",
    "new_data"
   ]
  },
  {
   "cell_type": "code",
   "execution_count": null,
   "metadata": {
    "colab": {
     "base_uri": "https://localhost:8080/"
    },
    "id": "TxusVnof4i2g",
    "outputId": "6975a2ef-7b7a-4ed0-ce40-2ab96325832f"
   },
   "outputs": [],
   "source": [
    "# Encoding SEX column:\n",
    "new_data['SEX'] = new_data['SEX'] - 1\n",
    "print(new_data[\"SEX\"].unique())\n",
    "# 0 = male, 1 = female"
   ]
  },
  {
   "cell_type": "code",
   "execution_count": null,
   "metadata": {
    "colab": {
     "base_uri": "https://localhost:8080/",
     "height": 424
    },
    "id": "Tf3s2pe28jXf",
    "outputId": "82b41d76-f74d-44d7-ee17-a0d31047fbd1"
   },
   "outputs": [],
   "source": [
    "# Normalize continuous values:\n",
    "from sklearn.preprocessing import StandardScaler\n",
    "\n",
    "cont_columns = [\"AGE\", \"LIMIT_BAL\", \"BILL_AMT1\", \"BILL_AMT2\", \"BILL_AMT3\",\n",
    "                \"BILL_AMT4\", \"BILL_AMT5\", \"BILL_AMT6\",\n",
    "                \"PAY_AMT1\", \"PAY_AMT2\", \"PAY_AMT3\", \"PAY_AMT4\", \"PAY_AMT5\", \"PAY_AMT6\"]\n",
    "\n",
    "scaler = StandardScaler()\n",
    "new_data[cont_columns] = scaler.fit_transform(new_data[cont_columns])\n",
    "new_data"
   ]
  },
  {
   "cell_type": "code",
   "execution_count": null,
   "metadata": {
    "id": "urOQAvqF4vGJ"
   },
   "outputs": [],
   "source": [
    "from sklearn.model_selection import train_test_split\n",
    "\n",
    "x = new_data.drop(columns=[\"default payment next month\"])\n",
    "y = df[\"default payment next month\"]\n",
    "\n",
    "x_train, x_test, y_train, y_test = train_test_split(x, y, test_size=0.2, random_state=42)"
   ]
  },
  {
   "cell_type": "code",
   "execution_count": null,
   "metadata": {
    "colab": {
     "base_uri": "https://localhost:8080/",
     "height": 80
    },
    "id": "rQgTR1uV6f2b",
    "outputId": "3d64a85e-895f-4d4f-f653-024578129315"
   },
   "outputs": [],
   "source": [
    "from sklearn.linear_model import LogisticRegression\n",
    "\n",
    "model = LogisticRegression(max_iter=1000)\n",
    "model.fit(x_train, y_train)"
   ]
  },
  {
   "cell_type": "code",
   "execution_count": null,
   "metadata": {
    "colab": {
     "base_uri": "https://localhost:8080/"
    },
    "id": "65EN1Uqb7Csl",
    "outputId": "b4b894c0-f8b3-43fa-8be5-5485d8ef8164"
   },
   "outputs": [],
   "source": [
    "from sklearn.metrics import accuracy_score, classification_report, confusion_matrix\n",
    "\n",
    "y_pred = model.predict(x_test)\n",
    "\n",
    "acc = accuracy_score(y_test, y_pred)\n",
    "print(\"Accuracy:\", acc)\n",
    "\n",
    "print(classification_report(y_test, y_pred))\n",
    "\n",
    "print(confusion_matrix(y_test, y_pred))\n"
   ]
  }
 ],
 "metadata": {
  "colab": {
   "provenance": []
  },
  "kernelspec": {
   "display_name": "Python 3",
   "name": "python3"
  },
  "language_info": {
   "name": "python"
  }
 },
 "nbformat": 4,
 "nbformat_minor": 0
}
