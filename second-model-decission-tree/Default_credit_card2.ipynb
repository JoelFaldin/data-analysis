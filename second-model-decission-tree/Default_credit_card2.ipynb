{
 "cells": [
  {
   "cell_type": "code",
   "execution_count": null,
   "metadata": {
    "colab": {
     "base_uri": "https://localhost:8080/",
     "height": 478
    },
    "id": "aVEIbrBoFhkp",
    "outputId": "65947d01-a811-4039-b550-ceb016ec9438"
   },
   "outputs": [],
   "source": [
    "from google.colab import files\n",
    "import pandas as pd\n",
    "import io\n",
    "\n",
    "upload_files = files.upload()\n",
    "\n",
    "file_name = next(iter(upload_files))\n",
    "\n",
    "df = pd.read_csv(io.StringIO(upload_files[file_name].decode('utf-8')), header=1, delimiter=\";\")\n",
    "\n",
    "df"
   ]
  },
  {
   "cell_type": "code",
   "execution_count": null,
   "metadata": {
    "colab": {
     "base_uri": "https://localhost:8080/",
     "height": 424
    },
    "collapsed": true,
    "id": "ufvbiVNyTOsO",
    "outputId": "19209f48-a7c3-4187-fa5d-a14895adb9dd"
   },
   "outputs": [],
   "source": [
    "df = df.drop('ID', axis = 1)\n",
    "df"
   ]
  },
  {
   "cell_type": "code",
   "execution_count": null,
   "metadata": {
    "colab": {
     "base_uri": "https://localhost:8080/"
    },
    "id": "uG2NhuGxjQWe",
    "outputId": "846cd25e-ccc8-43c0-855e-3eca1c9da3a8"
   },
   "outputs": [],
   "source": [
    "print(df[\"EDUCATION\"].unique())"
   ]
  },
  {
   "cell_type": "code",
   "execution_count": null,
   "metadata": {
    "colab": {
     "base_uri": "https://localhost:8080/"
    },
    "id": "qp7UXsXIj3p3",
    "outputId": "b0dd1920-1ca7-43e4-a73c-c591631507c8"
   },
   "outputs": [],
   "source": [
    "# Combine EDUCATION values 0, 5 and 6 into 4\n",
    "# This was done because documentation says that the column can only take 4 values (1 = graduate school; 2 = university; 3 = high school; 4 = others).\n",
    "df[\"EDUCATION\"] = df[\"EDUCATION\"].replace([0, 5, 6], 4)\n",
    "df[\"EDUCATION\"].unique()"
   ]
  },
  {
   "cell_type": "code",
   "execution_count": null,
   "metadata": {
    "colab": {
     "base_uri": "https://localhost:8080/"
    },
    "id": "fP7d8idwgYu3",
    "outputId": "41f33383-6837-44f3-ae6e-64fc1245ee2c"
   },
   "outputs": [],
   "source": [
    "print(df[\"MARRIAGE\"].unique())"
   ]
  },
  {
   "cell_type": "code",
   "execution_count": null,
   "metadata": {
    "colab": {
     "base_uri": "https://localhost:8080/"
    },
    "id": "4DgW7G1PkzXI",
    "outputId": "a173748a-3932-4097-b10a-f04938c32426"
   },
   "outputs": [],
   "source": [
    "# Combining MARRIAGE column \"0\" values to 3\n",
    "# The documentation says the column can only take 3 values: (1 = married; 2 = single; 3 = others). 0 is neither of those.\n",
    "df[\"MARRIAGE\"] = df[\"MARRIAGE\"].replace(0, 3)\n",
    "df[\"MARRIAGE\"].unique()"
   ]
  },
  {
   "cell_type": "code",
   "execution_count": null,
   "metadata": {
    "colab": {
     "base_uri": "https://localhost:8080/"
    },
    "id": "Kq7RIualK2LV",
    "outputId": "9a96f0b7-66ec-4a47-fdf0-298bdf5e5991"
   },
   "outputs": [],
   "source": [
    "print(df[\"SEX\"].unique())"
   ]
  },
  {
   "cell_type": "code",
   "execution_count": null,
   "metadata": {
    "colab": {
     "base_uri": "https://localhost:8080/"
    },
    "id": "TxusVnof4i2g",
    "outputId": "42e2f002-6898-4b86-9664-407f2b427ddf"
   },
   "outputs": [],
   "source": [
    "# Encoding SEX column:\n",
    "df['SEX'] = df['SEX'] - 1\n",
    "print(df[\"SEX\"].unique())\n",
    "# 0 = male, 1 = female"
   ]
  },
  {
   "cell_type": "code",
   "execution_count": null,
   "metadata": {
    "id": "urOQAvqF4vGJ"
   },
   "outputs": [],
   "source": [
    "from sklearn.model_selection import train_test_split\n",
    "\n",
    "x = df.drop(columns=[\"default payment next month\"])\n",
    "y = df[\"default payment next month\"]\n",
    "\n",
    "x_train, x_test, y_train, y_test = train_test_split(x, y, test_size=0.2, random_state=42)"
   ]
  },
  {
   "cell_type": "code",
   "execution_count": null,
   "metadata": {
    "colab": {
     "base_uri": "https://localhost:8080/",
     "height": 98
    },
    "id": "asWvzzKTFueL",
    "outputId": "22ab6961-b045-4f29-c558-1a0f3498c71d"
   },
   "outputs": [],
   "source": [
    "from sklearn.tree import DecisionTreeClassifier\n",
    "\n",
    "model = DecisionTreeClassifier(random_state=42, max_depth=10, ccp_alpha=0.001, max_features='sqrt')\n",
    "model.fit(x_train, y_train)"
   ]
  },
  {
   "cell_type": "code",
   "execution_count": null,
   "metadata": {
    "colab": {
     "base_uri": "https://localhost:8080/"
    },
    "id": "65EN1Uqb7Csl",
    "outputId": "eff92286-49a7-45c1-95b8-b7575c4b3d31"
   },
   "outputs": [],
   "source": [
    "from sklearn.metrics import accuracy_score, classification_report, confusion_matrix\n",
    "\n",
    "y_pred = model.predict(x_test)\n",
    "\n",
    "acc = accuracy_score(y_test, y_pred)\n",
    "print(\"Accuracy:\", acc)\n",
    "\n",
    "print(classification_report(y_test, y_pred))\n",
    "\n",
    "print(confusion_matrix(y_test, y_pred))\n"
   ]
  },
  {
   "cell_type": "code",
   "execution_count": null,
   "metadata": {
    "colab": {
     "base_uri": "https://localhost:8080/",
     "height": 807
    },
    "id": "leDFd_nAF--_",
    "outputId": "3e51ba36-a81d-4779-9e81-1a198de8da40"
   },
   "outputs": [],
   "source": [
    "from sklearn.tree import plot_tree\n",
    "import matplotlib.pyplot as plt\n",
    "\n",
    "plt.figure(figsize=(15, 10))\n",
    "plot_tree(model, filled=True, feature_names=x.columns, class_names=['No default', 'Default'])\n",
    "plt.show()"
   ]
  }
 ],
 "metadata": {
  "colab": {
   "provenance": []
  },
  "kernelspec": {
   "display_name": "Python 3",
   "name": "python3"
  },
  "language_info": {
   "name": "python"
  }
 },
 "nbformat": 4,
 "nbformat_minor": 0
}
