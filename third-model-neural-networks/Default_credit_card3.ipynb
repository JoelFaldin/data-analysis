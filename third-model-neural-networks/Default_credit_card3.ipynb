{
 "cells": [
  {
   "cell_type": "code",
   "execution_count": null,
   "metadata": {
    "colab": {
     "base_uri": "https://localhost:8080/",
     "height": 479
    },
    "id": "aVEIbrBoFhkp",
    "outputId": "8b1dbe20-69fc-48fa-c420-0d3b0a26e7b7"
   },
   "outputs": [],
   "source": [
    "from google.colab import files\n",
    "import pandas as pd\n",
    "import io\n",
    "\n",
    "upload_files = files.upload()\n",
    "\n",
    "file_name = next(iter(upload_files))\n",
    "\n",
    "df = pd.read_csv(io.StringIO(upload_files[file_name].decode('utf-8')), header=1, delimiter=\";\")\n",
    "\n",
    "df"
   ]
  },
  {
   "cell_type": "code",
   "execution_count": null,
   "metadata": {
    "colab": {
     "base_uri": "https://localhost:8080/",
     "height": 423
    },
    "collapsed": true,
    "id": "ufvbiVNyTOsO",
    "outputId": "c637ae39-45d3-4c1d-be75-8fadf018c80c"
   },
   "outputs": [],
   "source": [
    "df = df.drop('ID', axis = 1)\n",
    "df"
   ]
  },
  {
   "cell_type": "code",
   "execution_count": null,
   "metadata": {
    "colab": {
     "base_uri": "https://localhost:8080/"
    },
    "id": "z4tnkfFigVxT",
    "outputId": "6c100399-ddc2-4649-e4d3-748853dfddbc"
   },
   "outputs": [],
   "source": [
    "print(df[\"EDUCATION\"].unique())"
   ]
  },
  {
   "cell_type": "code",
   "execution_count": null,
   "metadata": {
    "colab": {
     "base_uri": "https://localhost:8080/"
    },
    "id": "__v0VlWzgXsE",
    "outputId": "a3178f39-9f8e-4001-8aae-8c5d5b6fff44"
   },
   "outputs": [],
   "source": [
    "# Combine EDUCATION values 0, 5 and 6 into 4\n",
    "# 1 = graduate school; 2 = university; 3 = high school; 4 = others.\n",
    "df[\"EDUCATION\"] = df[\"EDUCATION\"].replace([0, 5, 6], 4)\n",
    "df[\"EDUCATION\"].unique()"
   ]
  },
  {
   "cell_type": "code",
   "execution_count": null,
   "metadata": {
    "colab": {
     "base_uri": "https://localhost:8080/"
    },
    "id": "mHeyeGcygbf9",
    "outputId": "f4d9257a-a59c-45d1-fa86-55498ef495bc"
   },
   "outputs": [],
   "source": [
    "print(df[\"MARRIAGE\"].unique())"
   ]
  },
  {
   "cell_type": "code",
   "execution_count": null,
   "metadata": {
    "colab": {
     "base_uri": "https://localhost:8080/"
    },
    "id": "ZUb2T6a8gcEb",
    "outputId": "2b849229-b40f-4e4c-d5f7-315425331051"
   },
   "outputs": [],
   "source": [
    "# Combining MARRIAGE column \"0\" values to 3\n",
    "# 1 = married; 2 = single; 3 = others.\n",
    "df[\"MARRIAGE\"] = df[\"MARRIAGE\"].replace(0, 3)\n",
    "df[\"MARRIAGE\"].unique()"
   ]
  },
  {
   "cell_type": "code",
   "execution_count": null,
   "metadata": {
    "colab": {
     "base_uri": "https://localhost:8080/",
     "height": 423
    },
    "id": "3LkJWBItrmNj",
    "outputId": "b77e84c6-7462-4f1b-dd23-837cf6a329c9"
   },
   "outputs": [],
   "source": [
    "# Encoding EDUCATION column:\n",
    "new_data = pd.get_dummies(df, columns=['EDUCATION', 'MARRIAGE'], drop_first=True)\n",
    "new_data"
   ]
  },
  {
   "cell_type": "code",
   "execution_count": null,
   "metadata": {
    "colab": {
     "base_uri": "https://localhost:8080/"
    },
    "id": "UT4rCgmZgfKM",
    "outputId": "de0bc0f5-5d34-44e4-e284-47b7bdd569c2"
   },
   "outputs": [],
   "source": [
    "print(df[\"SEX\"].unique())"
   ]
  },
  {
   "cell_type": "code",
   "execution_count": null,
   "metadata": {
    "colab": {
     "base_uri": "https://localhost:8080/"
    },
    "id": "haUmTvGkginW",
    "outputId": "a9ad391a-b2d4-4936-b570-6f2ef8398036"
   },
   "outputs": [],
   "source": [
    "# Encoding SEX column:\n",
    "df['SEX'] = df['SEX'] - 1\n",
    "print(df[\"SEX\"].unique())\n",
    "# 0 = male, 1 = female"
   ]
  },
  {
   "cell_type": "code",
   "execution_count": null,
   "metadata": {
    "id": "_O3DBYf2ZYHo"
   },
   "outputs": [],
   "source": [
    "from sklearn.preprocessing import OneHotEncoder\n",
    "from sklearn.compose import ColumnTransformer\n",
    "\n",
    "categorical_features = ['SEX', 'EDUCATION', 'MARRIAGE']\n",
    "\n",
    "pre = ColumnTransformer(\n",
    "    transformers=[('cat', OneHotEncoder(), categorical_features)],\n",
    "    remainder='passthrough'\n",
    ")\n",
    "\n",
    "x = df.drop('default payment next month', axis = 1)\n",
    "y = df['default payment next month']"
   ]
  },
  {
   "cell_type": "code",
   "execution_count": null,
   "metadata": {
    "id": "-MzKbJYtZ2Rk"
   },
   "outputs": [],
   "source": [
    "from sklearn.preprocessing import StandardScaler\n",
    "\n",
    "x_encoded = pre.fit_transform(x)\n",
    "scaler = StandardScaler()\n",
    "x_scaled = scaler.fit_transform(x_encoded)"
   ]
  },
  {
   "cell_type": "code",
   "execution_count": null,
   "metadata": {
    "id": "urOQAvqF4vGJ"
   },
   "outputs": [],
   "source": [
    "from sklearn.model_selection import train_test_split\n",
    "\n",
    "x = df.drop(columns=[\"default payment next month\"])\n",
    "y = df[\"default payment next month\"]\n",
    "\n",
    "x_train, x_test, y_train, y_test = train_test_split(x, y, test_size=0.2, random_state=42)"
   ]
  },
  {
   "cell_type": "code",
   "execution_count": null,
   "metadata": {
    "colab": {
     "base_uri": "https://localhost:8080/"
    },
    "id": "CP_Upf1zdnug",
    "outputId": "e3e8eeff-1932-4f73-84d3-0f59c44b6e0b"
   },
   "outputs": [],
   "source": [
    "from tensorflow import keras\n",
    "\n",
    "model = keras.Sequential([\n",
    "    keras.layers.Dense(128, activation='relu', input_shape=(x_train.shape[1],)),\n",
    "    keras.layers.Dense(64, activation='relu'),\n",
    "    keras.layers.Dense(32, activation='relu'),\n",
    "    keras.layers.Dense(1, activation='sigmoid')\n",
    "])\n",
    "\n",
    "model.compile(optimizer='adam', loss='binary_crossentropy', metrics=['accuracy'])\n",
    "\n",
    "y_train = y_train.reset_index(drop=True)\n",
    "hist = model.fit(x_train, y_train, epochs=20, batch_size=32, validation_split=0.2, class_weight={ 0: 1.0, 1: 3.0 })"
   ]
  },
  {
   "cell_type": "code",
   "execution_count": null,
   "metadata": {
    "colab": {
     "base_uri": "https://localhost:8080/"
    },
    "id": "XVruZkqoemlX",
    "outputId": "61855274-9249-4e4d-b554-2622ce4b16ea"
   },
   "outputs": [],
   "source": [
    "test_loss, test_acc = model.evaluate(x_test, y_test)\n",
    "print('Test accuracy:', test_acc)\n",
    "\n",
    "y_pred = (model.predict(x_test) > 0.5).astype(int)\n",
    "\n",
    "from sklearn.metrics import classification_report\n",
    "print(classification_report(y_test, y_pred))"
   ]
  }
 ],
 "metadata": {
  "colab": {
   "provenance": []
  },
  "kernelspec": {
   "display_name": "Python 3",
   "name": "python3"
  },
  "language_info": {
   "name": "python"
  }
 },
 "nbformat": 4,
 "nbformat_minor": 0
}
